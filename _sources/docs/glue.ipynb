{
 "cells": [
  {
   "cell_type": "markdown",
   "id": "f3d4367e",
   "metadata": {},
   "source": [
    "(glue)=\n",
    "\n",
    "# Insert variables into pages with `glue`\n",
    "\n",
    "You often wish to run analyses in one notebook and insert them into your\n",
    "documents text elsewhere. For example, if you'd like to include a figure,\n",
    "or if you want to cite a statistic that you have run.\n",
    "\n",
    "The **`glue` submodule** allows you to add a key to variables in a notebook,\n",
    "then display those variables in your book by referencing the key.\n",
    "\n",
    "This page describes how to add keys to variables in notebooks, and how to insert them\n",
    "into your book's content in a variety of ways.[^download]\n",
    "\n",
    "[^download]: This notebook can be downloaded as\n",
    "            **{nb-download}`glue.ipynb`** and {download}`glue.md`"
   ]
  },
  {
   "cell_type": "markdown",
   "id": "00f4a117",
   "metadata": {},
   "source": [
    "(glue/gluing)=\n",
    "\n",
    "## Gluing variables in your notebook\n",
    "\n",
    "You can use `myst_nb.glue()` to assign value of a variable to\n",
    "a key of your choice. `glue` will store all of the information that is normally used to **display**\n",
    "that variable (ie, whatever happens when you display the variable by putting it at the end of a cell).\n",
    "Choose a key that you will remember, as you will use it later.\n",
    "\n",
    "The following code glues a variable inside the notebook:"
   ]
  },
  {
   "cell_type": "code",
   "execution_count": 1,
   "id": "24773478",
   "metadata": {},
   "outputs": [
    {
     "data": {
      "text/plain": [
       "'Batch1'"
      ]
     },
     "metadata": {
      "scrapbook": {
       "mime_prefix": "",
       "name": "my_variable"
      }
     },
     "output_type": "display_data"
    }
   ],
   "source": [
    "from myst_nb import glue\n",
    "a = \"Batch1\"\n",
    "glue(\"my_variable\", a)\n"
   ]
  },
  {
   "cell_type": "markdown",
   "id": "21a7db78",
   "metadata": {},
   "source": [
    "```md\n",
    "example markdown block {glue:}`my_variable`\n",
    "```\n",
    "\n",
    "Test out remove-input:"
   ]
  },
  {
   "cell_type": "code",
   "execution_count": 2,
   "id": "4d598f6d",
   "metadata": {},
   "outputs": [
    {
     "name": "stdout",
     "output_type": "stream",
     "text": [
      "some code hey\n"
     ]
    }
   ],
   "source": [
    "%store -r variablepgOne\n",
    "\n",
    "print(f\"some code {variablepgOne}\")"
   ]
  },
  {
   "cell_type": "markdown",
   "id": "7dffef47",
   "metadata": {},
   "source": [
    "Test out remove-input with glue:"
   ]
  },
  {
   "cell_type": "code",
   "execution_count": 3,
   "id": "8ba89033",
   "metadata": {
    "tags": [
     "remove-input"
    ]
   },
   "outputs": [
    {
     "ename": "NameError",
     "evalue": "name 'b' is not defined",
     "output_type": "error",
     "traceback": [
      "\u001b[0;31m---------------------------------------------------------------------------\u001b[0m",
      "\u001b[0;31mNameError\u001b[0m                                 Traceback (most recent call last)",
      "\u001b[0;32m/var/folders/0y/5d1shp9n6kq856jtm9t10mcw0000gq/T/ipykernel_31472/3010798434.py\u001b[0m in \u001b[0;36m<module>\u001b[0;34m\u001b[0m\n\u001b[0;32m----> 1\u001b[0;31m \u001b[0mprint\u001b[0m\u001b[0;34m(\u001b[0m\u001b[0;34mf\"some code {b}\"\u001b[0m\u001b[0;34m)\u001b[0m\u001b[0;34m\u001b[0m\u001b[0;34m\u001b[0m\u001b[0m\n\u001b[0m",
      "\u001b[0;31mNameError\u001b[0m: name 'b' is not defined"
     ]
    }
   ],
   "source": [
    "print(f\"some code {b}\")"
   ]
  },
  {
   "cell_type": "code",
   "execution_count": null,
   "id": "5dfdb7c4",
   "metadata": {
    "tags": [
     "remove-input"
    ]
   },
   "outputs": [],
   "source": [
    "print(f\"some code {c}\")"
   ]
  },
  {
   "cell_type": "markdown",
   "id": "52721408",
   "metadata": {},
   "source": [
    "Test out remove-input with variable deined elsewhere:"
   ]
  },
  {
   "cell_type": "code",
   "execution_count": null,
   "id": "1e8cc03f",
   "metadata": {
    "tags": [
     "remove-input"
    ]
   },
   "outputs": [],
   "source": [
    "print(f\"some code {variablefromanotherpage}\")"
   ]
  },
  {
   "cell_type": "markdown",
   "id": "621c18c0",
   "metadata": {},
   "source": [
    "Some code here {glue:}`my_variable`+more code\n",
    "\n",
    "You can then insert it into your text like so: {glue:}`my_variable`.\n",
    "\n",
    "That was accomplished with the following code: `` {glue:}`my_variable` ``.\n",
    "\n",
    "```\n",
    "inside a code block {glue:}`my_variable`\n",
    "```"
   ]
  },
  {
   "cell_type": "code",
   "execution_count": null,
   "id": "9e9f4039",
   "metadata": {},
   "outputs": [],
   "source": [
    "inside a {code-cell} {glue:}`my_variable`"
   ]
  },
  {
   "cell_type": "code",
   "execution_count": null,
   "id": "c57371ff",
   "metadata": {},
   "outputs": [],
   "source": [
    "inside an ipython {code-cell} {glue:}`my_variable`"
   ]
  }
 ],
 "metadata": {
  "jupytext": {
   "text_representation": {
    "extension": ".md",
    "format_name": "myst",
    "format_version": "0.8",
    "jupytext_version": "1.4.1"
   }
  },
  "kernelspec": {
   "display_name": "Python 3",
   "language": "python",
   "name": "python3"
  },
  "language_info": {
   "codemirror_mode": {
    "name": "ipython",
    "version": 3
   },
   "file_extension": ".py",
   "mimetype": "text/x-python",
   "name": "python",
   "nbconvert_exporter": "python",
   "pygments_lexer": "ipython3",
   "version": "3.8.8"
  },
  "source_map": [
   12,
   31,
   44,
   49,
   57,
   61,
   65,
   71,
   75,
   77,
   81,
   92,
   95
  ]
 },
 "nbformat": 4,
 "nbformat_minor": 5
}