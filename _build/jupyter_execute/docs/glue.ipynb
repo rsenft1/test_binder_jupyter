{
 "cells": [
  {
   "cell_type": "markdown",
<<<<<<< Updated upstream
   "id": "8c8c2028",
=======
   "id": "bf30543c",
>>>>>>> Stashed changes
   "metadata": {},
   "source": [
    "(glue)=\n",
    "\n",
    "# Insert variables into pages with `glue`\n",
    "\n",
    "You often wish to run analyses in one notebook and insert them into your\n",
    "documents text elsewhere. For example, if you'd like to include a figure,\n",
    "or if you want to cite a statistic that you have run.\n",
    "\n",
    "The **`glue` submodule** allows you to add a key to variables in a notebook,\n",
    "then display those variables in your book by referencing the key.\n",
    "\n",
    "This page describes how to add keys to variables in notebooks, and how to insert them\n",
    "into your book's content in a variety of ways.[^download]\n",
    "\n",
    "[^download]: This notebook can be downloaded as\n",
    "            **{nb-download}`glue.ipynb`** and {download}`glue.md`"
   ]
  },
  {
   "cell_type": "markdown",
<<<<<<< Updated upstream
   "id": "1a34873a",
=======
   "id": "55119fe8",
>>>>>>> Stashed changes
   "metadata": {},
   "source": [
    "(glue/gluing)=\n",
    "\n",
    "## Gluing variables in your notebook\n",
    "\n",
    "You can use `myst_nb.glue()` to assign value of a variable to\n",
    "a key of your choice. `glue` will store all of the information that is normally used to **display**\n",
    "that variable (ie, whatever happens when you display the variable by putting it at the end of a cell).\n",
    "Choose a key that you will remember, as you will use it later.\n",
    "\n",
    "The following code glues a variable inside the notebook:"
   ]
  },
  {
   "cell_type": "code",
   "execution_count": 1,
<<<<<<< Updated upstream
   "id": "6f3f1b0e",
=======
   "id": "54fdc8c1",
>>>>>>> Stashed changes
   "metadata": {},
   "outputs": [
    {
     "data": {
      "text/plain": [
<<<<<<< Updated upstream
       "'my variable!'"
=======
       "'Batch1'"
>>>>>>> Stashed changes
      ]
     },
     "metadata": {
      "scrapbook": {
       "mime_prefix": "",
       "name": "my_variable"
      }
     },
     "output_type": "display_data"
    }
   ],
   "source": [
    "from myst_nb import glue\n",
<<<<<<< Updated upstream
    "a = \"my variable!\"\n",
=======
    "a = \"Batch1\"\n",
>>>>>>> Stashed changes
    "glue(\"my_variable\", a)"
   ]
  },
  {
   "cell_type": "markdown",
<<<<<<< Updated upstream
   "id": "15af5035",
   "metadata": {},
   "source": [
    "You can then insert it into your text like so: {glue:}`my_variable`.\n",
    "\n",
    "That was accomplished with the following code: `` {glue:}`my_variable` ``.\n",
    "```\n",
    "{glue:}`my_variable`\n",
=======
   "id": "ce303587",
   "metadata": {},
   "source": [
    "```md\n",
    "example markdown block {glue:}`my_variable`\n",
    "```\n",
    "\n",
    "Some code here {glue:}`my_variable`+more code\n",
    "\n",
    "You can then insert it into your text like so: {glue:}`my_variable`.\n",
    "\n",
    "That was accomplished with the following code: `` {glue:}`my_variable` ``.\n",
    "\n",
    "```\n",
    "inside a code block {glue:}`my_variable`\n",
>>>>>>> Stashed changes
    "```"
   ]
  },
  {
   "cell_type": "code",
   "execution_count": 2,
<<<<<<< Updated upstream
   "id": "f3dee514",
=======
   "id": "a74a10cf",
>>>>>>> Stashed changes
   "metadata": {},
   "outputs": [
    {
     "ename": "SyntaxError",
<<<<<<< Updated upstream
     "evalue": "invalid syntax (381702639.py, line 1)",
     "output_type": "error",
     "traceback": [
      "\u001b[0;36m  File \u001b[0;32m\"/var/folders/0y/5d1shp9n6kq856jtm9t10mcw0000gq/T/ipykernel_27731/381702639.py\"\u001b[0;36m, line \u001b[0;32m1\u001b[0m\n\u001b[0;31m    {glue:}`my_variable`\u001b[0m\n\u001b[0m          ^\u001b[0m\n\u001b[0;31mSyntaxError\u001b[0m\u001b[0;31m:\u001b[0m invalid syntax\n"
=======
     "evalue": "invalid syntax (2161986639.py, line 1)",
     "output_type": "error",
     "traceback": [
      "\u001b[0;36m  File \u001b[0;32m\"/var/folders/0y/5d1shp9n6kq856jtm9t10mcw0000gq/T/ipykernel_29047/2161986639.py\"\u001b[0;36m, line \u001b[0;32m1\u001b[0m\n\u001b[0;31m    inside a {code-cell} {glue:}`my_variable`\u001b[0m\n\u001b[0m           ^\u001b[0m\n\u001b[0;31mSyntaxError\u001b[0m\u001b[0;31m:\u001b[0m invalid syntax\n"
>>>>>>> Stashed changes
     ]
    }
   ],
   "source": [
<<<<<<< Updated upstream
    "{glue:}`my_variable`"
=======
    "inside a {code-cell} {glue:}`my_variable`"
>>>>>>> Stashed changes
   ]
  },
  {
   "cell_type": "code",
   "execution_count": null,
<<<<<<< Updated upstream
   "id": "bde18511",
   "metadata": {},
   "outputs": [],
   "source": [
    "{glue:}`my_variable`"
   ]
  },
  {
   "cell_type": "markdown",
   "id": "62d3a715",
   "metadata": {},
   "source": [
    "{glue:code}`my_variable`"
=======
   "id": "4adec012",
   "metadata": {},
   "outputs": [],
   "source": [
    "inside an ipython {code-cell} {glue:}`my_variable`"
>>>>>>> Stashed changes
   ]
  }
 ],
 "metadata": {
  "jupytext": {
   "text_representation": {
    "extension": ".md",
    "format_name": "myst",
    "format_version": "0.8",
    "jupytext_version": "1.4.1"
   }
  },
  "kernelspec": {
   "display_name": "Python 3",
   "language": "python",
   "name": "python3"
  },
  "language_info": {
   "codemirror_mode": {
    "name": "ipython",
    "version": 3
   },
   "file_extension": ".py",
   "mimetype": "text/x-python",
   "name": "python",
   "nbconvert_exporter": "python",
   "pygments_lexer": "ipython3",
   "version": "3.8.8"
  },
  "source_map": [
   12,
   31,
   44,
   48,
<<<<<<< Updated upstream
   56,
   59,
   61
=======
   63,
   66
>>>>>>> Stashed changes
  ]
 },
 "nbformat": 4,
 "nbformat_minor": 5
}