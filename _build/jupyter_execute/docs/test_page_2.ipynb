{
 "cells": [
  {
   "cell_type": "markdown",
   "id": "7f847239",
   "metadata": {},
   "source": [
    "(launch:thebe)=\n",
    "# CODE TEST"
   ]
  },
  {
   "cell_type": "code",
   "execution_count": 1,
   "id": "7c902581",
   "metadata": {},
   "outputs": [
    {
     "name": "stdout",
     "output_type": "stream",
     "text": [
      "some code hey\n"
     ]
    }
   ],
   "source": [
    "%store -r variablepgOne\n",
    "\n",
    "print(f\"some code {variablepgOne}\")"
   ]
  }
 ],
 "metadata": {
  "jupytext": {
   "formats": "md:myst",
   "text_representation": {
    "extension": ".md",
    "format_name": "myst",
    "format_version": 0.13,
    "jupytext_version": "1.10.3"
   }
  },
  "kernelspec": {
   "display_name": "Python 3",
   "language": "python",
   "name": "python3"
  },
  "language_info": {
   "codemirror_mode": {
    "name": "ipython",
    "version": 3
   },
   "file_extension": ".py",
   "mimetype": "text/x-python",
   "name": "python",
   "nbconvert_exporter": "python",
   "pygments_lexer": "ipython3",
   "version": "3.8.8"
  },
  "source_map": [
   13,
   18
  ]
 },
 "nbformat": 4,
 "nbformat_minor": 5
}